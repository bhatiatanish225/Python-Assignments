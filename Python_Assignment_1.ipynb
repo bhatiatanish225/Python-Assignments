{
  "nbformat": 4,
  "nbformat_minor": 0,
  "metadata": {
    "colab": {
      "provenance": [],
      "toc_visible": true,
      "authorship_tag": "ABX9TyMNlgMdUw2BLMktoNx9iAMl",
      "include_colab_link": true
    },
    "kernelspec": {
      "name": "python3",
      "display_name": "Python 3"
    },
    "language_info": {
      "name": "python"
    }
  },
  "cells": [
    {
      "cell_type": "markdown",
      "metadata": {
        "id": "view-in-github",
        "colab_type": "text"
      },
      "source": [
        "<a href=\"https://colab.research.google.com/github/bhatiatanish225/Python-Assignments/blob/main/Python_Assignment_1.ipynb\" target=\"_parent\"><img src=\"https://colab.research.google.com/assets/colab-badge.svg\" alt=\"Open In Colab\"/></a>"
      ]
    },
    {
      "cell_type": "markdown",
      "source": [
        "Q1. L is a list defined as L= [11, 12, 13, 14]# New Section"
      ],
      "metadata": {
        "id": "fjKyzW_l73nF"
      }
    },
    {
      "cell_type": "markdown",
      "source": [
        "(i) WAP to add 50 and 60 to L. "
      ],
      "metadata": {
        "id": "3OFKbhkk7KXY"
      }
    },
    {
      "cell_type": "code",
      "source": [
        "L= [11, 12, 13, 14]\n",
        "print(L)\n",
        "M=[50,60]\n",
        "L.extend(M)\n",
        "print(L)"
      ],
      "metadata": {
        "colab": {
          "base_uri": "https://localhost:8080/"
        },
        "id": "xRex8jVu9x45",
        "outputId": "c6bc810d-208d-4670-b988-0244ff38482f"
      },
      "execution_count": null,
      "outputs": [
        {
          "output_type": "stream",
          "name": "stdout",
          "text": [
            "[11, 12, 13, 14]\n",
            "[11, 12, 13, 14, 50, 60]\n"
          ]
        }
      ]
    },
    {
      "cell_type": "markdown",
      "source": [
        "(ii) WAP to remove 11 and 13from L\n"
      ],
      "metadata": {
        "id": "a7h9UULA6_mF"
      }
    },
    {
      "cell_type": "code",
      "source": [
        "L= [11, 12, 13, 14]\n",
        "print(len(L))\n",
        "del L[0]\n",
        "\n",
        "\n",
        "del L[1]\n",
        "print(L)"
      ],
      "metadata": {
        "colab": {
          "base_uri": "https://localhost:8080/"
        },
        "id": "0icMGmqF7U0G",
        "outputId": "bc36eeb4-e1e5-4160-cd5c-5de5ebda0b1c"
      },
      "execution_count": null,
      "outputs": [
        {
          "output_type": "stream",
          "name": "stdout",
          "text": [
            "4\n",
            "[12, 14]\n"
          ]
        }
      ]
    },
    {
      "cell_type": "markdown",
      "source": [
        "(iii) WAP to sort L in ascending order.\n"
      ],
      "metadata": {
        "id": "ha18DU5E7VZz"
      }
    },
    {
      "cell_type": "code",
      "source": [
        "L= [11, 12, 13, 14]\n",
        "(L.sort())\n",
        "print(L)"
      ],
      "metadata": {
        "colab": {
          "base_uri": "https://localhost:8080/"
        },
        "id": "5QXaOPXf7YUj",
        "outputId": "43d0b1a3-254f-4e05-923c-9947ecec73c2"
      },
      "execution_count": null,
      "outputs": [
        {
          "output_type": "stream",
          "name": "stdout",
          "text": [
            "[11, 12, 13, 14]\n"
          ]
        }
      ]
    },
    {
      "cell_type": "markdown",
      "source": [
        "(iv) WAP to sort L in descending order."
      ],
      "metadata": {
        "id": "DnNd0OzY7ZFr"
      }
    },
    {
      "cell_type": "code",
      "source": [
        "L= [11, 12, 13, 14]\n",
        "L.sort(reverse=True)\n",
        "print(L)"
      ],
      "metadata": {
        "colab": {
          "base_uri": "https://localhost:8080/"
        },
        "id": "HAjPNeRt7b-0",
        "outputId": "747a37cc-a442-4e38-ed3e-05a6c310b333"
      },
      "execution_count": null,
      "outputs": [
        {
          "output_type": "stream",
          "name": "stdout",
          "text": [
            "[14, 13, 12, 11]\n"
          ]
        }
      ]
    },
    {
      "cell_type": "markdown",
      "source": [
        "(v) WAP to search for 13 in L."
      ],
      "metadata": {
        "id": "dfs6NJHT7cPd"
      }
    },
    {
      "cell_type": "code",
      "source": [
        "L= [11, 12, 13, 14]\n",
        "for n in range(4):\n",
        "  if(L[n]==13):\n",
        "    print(n)"
      ],
      "metadata": {
        "colab": {
          "base_uri": "https://localhost:8080/"
        },
        "id": "dRWs_wtu7eZN",
        "outputId": "0bfcf87a-722f-4070-d15a-c9d1fa723b70"
      },
      "execution_count": null,
      "outputs": [
        {
          "output_type": "stream",
          "name": "stdout",
          "text": [
            "2\n"
          ]
        }
      ]
    },
    {
      "cell_type": "markdown",
      "source": [
        "(vi) WAP to count the number of elements present in L"
      ],
      "metadata": {
        "id": "wKWOjBqz7ey9"
      }
    },
    {
      "cell_type": "code",
      "source": [
        "\n",
        "L= [11, 12, 13, 14]\n",
        "\n",
        "count=0\n",
        "for n in range(len(L)):\n",
        "  count=count+1\n",
        "print(count)  \n"
      ],
      "metadata": {
        "colab": {
          "base_uri": "https://localhost:8080/"
        },
        "id": "f3gjUzJC7jMT",
        "outputId": "0deccbd3-d421-4c2a-af11-5191c76b6b89"
      },
      "execution_count": null,
      "outputs": [
        {
          "output_type": "stream",
          "name": "stdout",
          "text": [
            "4\n"
          ]
        }
      ]
    },
    {
      "cell_type": "markdown",
      "source": [
        "(vii) WAP to sum all the elements in L"
      ],
      "metadata": {
        "id": "8_5Dulja7jZ-"
      }
    },
    {
      "cell_type": "code",
      "source": [
        "L= [11, 12, 13, 14]\n",
        "sum=0\n",
        "for n in L:\n",
        "  sum=sum+n\n",
        "print(sum)  \n",
        "  \n"
      ],
      "metadata": {
        "colab": {
          "base_uri": "https://localhost:8080/"
        },
        "id": "1uA7t9mc7nrT",
        "outputId": "800fb63d-a2de-49a2-9fee-af0b76778fc0"
      },
      "execution_count": null,
      "outputs": [
        {
          "output_type": "stream",
          "name": "stdout",
          "text": [
            "50\n"
          ]
        }
      ]
    },
    {
      "cell_type": "markdown",
      "source": [
        "(viii) WAP to sum all ODD numbers in L"
      ],
      "metadata": {
        "id": "VByJdstk7oHs"
      }
    },
    {
      "cell_type": "code",
      "source": [
        "L= [11, 12, 13, 14]\n",
        "sum=0\n",
        "for n in L:\n",
        "  if(n%2!=0):\n",
        "    sum=sum+n\n",
        "print(sum)    "
      ],
      "metadata": {
        "colab": {
          "base_uri": "https://localhost:8080/"
        },
        "id": "BZTEq9u07qij",
        "outputId": "a3a93ec7-5921-4887-95a0-43b0162239fe"
      },
      "execution_count": null,
      "outputs": [
        {
          "output_type": "stream",
          "name": "stdout",
          "text": [
            "24\n"
          ]
        }
      ]
    },
    {
      "cell_type": "markdown",
      "source": [
        "(ix) WAP to sum all EVEN numbers in L."
      ],
      "metadata": {
        "id": "cSUUnqWt7q-l"
      }
    },
    {
      "cell_type": "code",
      "source": [
        "L= [11, 12, 13, 14]\n",
        "sum=0\n",
        "for n in L:\n",
        "  if(n%2==0):\n",
        "    sum=sum+n\n",
        "print(sum)    "
      ],
      "metadata": {
        "colab": {
          "base_uri": "https://localhost:8080/"
        },
        "id": "KJ8HxS-v7tZj",
        "outputId": "60ea035e-db68-48d7-ea2e-9b492dce0ad1"
      },
      "execution_count": null,
      "outputs": [
        {
          "output_type": "stream",
          "name": "stdout",
          "text": [
            "26\n"
          ]
        }
      ]
    },
    {
      "cell_type": "markdown",
      "source": [
        "(x) WAP to sum all PRIME numbers in L."
      ],
      "metadata": {
        "id": "dCQTxLrA7txu"
      }
    },
    {
      "cell_type": "code",
      "source": [
        "\n",
        "  \n",
        "\n",
        "\n",
        "\n",
        "  \n"
      ],
      "metadata": {
        "colab": {
          "base_uri": "https://localhost:8080/"
        },
        "id": "BNtfQjbV7vqb",
        "outputId": "8ce0a8f3-9493-4069-dd71-140496a7f658"
      },
      "execution_count": null,
      "outputs": [
        {
          "output_type": "stream",
          "name": "stdout",
          "text": [
            "11\n",
            "12\n",
            "13\n",
            "14\n",
            "14\n"
          ]
        }
      ]
    },
    {
      "cell_type": "markdown",
      "source": [
        "(xi) WAP to clear all the elements in L."
      ],
      "metadata": {
        "id": "HZX7lLkF7wAb"
      }
    },
    {
      "cell_type": "code",
      "source": [
        "L= [11, 12, 13, 14]\n",
        "L.clear()\n",
        "print(L)"
      ],
      "metadata": {
        "id": "QaW8W92c7yck"
      },
      "execution_count": null,
      "outputs": []
    },
    {
      "cell_type": "markdown",
      "source": [
        "(xii) WAP to delete L"
      ],
      "metadata": {
        "id": "YNrs2o3j7yt8"
      }
    },
    {
      "cell_type": "code",
      "source": [
        "L= [11, 12, 13, 14]\n",
        "del L"
      ],
      "metadata": {
        "id": "28K8qQq971Gr"
      },
      "execution_count": null,
      "outputs": []
    },
    {
      "cell_type": "markdown",
      "source": [
        "Q2. D is a dictionary defined as D= {1:5.6, 2:7.8, 3:6.6, 4:8.7, 5:7.7}\n"
      ],
      "metadata": {
        "id": "j0q6czKbQCud"
      }
    },
    {
      "cell_type": "markdown",
      "source": [
        "(i) WAP to add new entry in D; key=8 and value is 8.8"
      ],
      "metadata": {
        "id": "YBxQU690QLhU"
      }
    },
    {
      "cell_type": "code",
      "source": [
        "D= {1:5.6, 2:7.8, 3:6.6, 4:8.7, 5:7.7}\n",
        "D[8]=8.8\n",
        "print(D)\n"
      ],
      "metadata": {
        "colab": {
          "base_uri": "https://localhost:8080/"
        },
        "id": "O430nBZbQT3p",
        "outputId": "123a0764-c7d7-4019-ceb5-a65588cb936e"
      },
      "execution_count": null,
      "outputs": [
        {
          "output_type": "stream",
          "name": "stdout",
          "text": [
            "{1: 5.6, 2: 7.8, 3: 6.6, 4: 8.7, 5: 7.7, 8: 8.8}\n"
          ]
        }
      ]
    },
    {
      "cell_type": "markdown",
      "source": [
        "(ii) WAP to remove key=2"
      ],
      "metadata": {
        "id": "0j1itwl1QURh"
      }
    },
    {
      "cell_type": "code",
      "source": [
        "D= {1:5.6, 2:7.8, 3:6.6, 4:8.7, 5:7.7}\n",
        "del D[2]\n",
        "print(D)"
      ],
      "metadata": {
        "colab": {
          "base_uri": "https://localhost:8080/"
        },
        "id": "3j7dKYstQWVg",
        "outputId": "5fc5c794-31ce-4c7e-d39d-3d9845beb47b"
      },
      "execution_count": null,
      "outputs": [
        {
          "output_type": "stream",
          "name": "stdout",
          "text": [
            "{1: 5.6, 3: 6.6, 4: 8.7, 5: 7.7}\n"
          ]
        }
      ]
    },
    {
      "cell_type": "markdown",
      "source": [
        "(iii) WAP to check weather 6 key is present in D."
      ],
      "metadata": {
        "id": "8Zx1idmPQWna"
      }
    },
    {
      "cell_type": "code",
      "source": [
        "D= {1:5.6, 2:7.8, 3:6.6, 4:8.7, 5:7.7}\n",
        "print(6 in D)\n"
      ],
      "metadata": {
        "colab": {
          "base_uri": "https://localhost:8080/"
        },
        "id": "NESFMqohQYhZ",
        "outputId": "53d0f49d-660b-4d7b-b8dc-756bf40ae2ef"
      },
      "execution_count": null,
      "outputs": [
        {
          "output_type": "stream",
          "name": "stdout",
          "text": [
            "False\n"
          ]
        }
      ]
    },
    {
      "cell_type": "markdown",
      "source": [
        "(iv) WAP to count the number of elements present in D."
      ],
      "metadata": {
        "id": "qLkL6yCcQY2B"
      }
    },
    {
      "cell_type": "code",
      "source": [
        "D= {1:5.6, 2:7.8, 3:6.6, 4:8.7, 5:7.7}\n",
        "count=0\n",
        "for n in range(len(D)):\n",
        "  count=count+1\n",
        "print(count)  "
      ],
      "metadata": {
        "colab": {
          "base_uri": "https://localhost:8080/"
        },
        "id": "Sbdqgx1aQaex",
        "outputId": "3982a318-0a34-4bbd-d312-ea72aebfeb58"
      },
      "execution_count": null,
      "outputs": [
        {
          "output_type": "stream",
          "name": "stdout",
          "text": [
            "5\n"
          ]
        }
      ]
    },
    {
      "cell_type": "markdown",
      "source": [
        "(v) WAP to add all the values present D.\n"
      ],
      "metadata": {
        "id": "suLq7Z6NQa1J"
      }
    },
    {
      "cell_type": "code",
      "source": [
        "D= {1:5.6, 2:7.8, 3:6.6, 4:8.7, 5:7.7}\n",
        "sum=0\n",
        "for n in D:\n",
        "  sum=sum+D[n]\n",
        "print(sum)  \n",
        "\n"
      ],
      "metadata": {
        "colab": {
          "base_uri": "https://localhost:8080/"
        },
        "id": "xl_R1SqWQdxZ",
        "outputId": "95ee3c97-1dd7-4293-dbac-1d21a41ba1b3"
      },
      "execution_count": null,
      "outputs": [
        {
          "output_type": "stream",
          "name": "stdout",
          "text": [
            "36.4\n"
          ]
        }
      ]
    },
    {
      "cell_type": "markdown",
      "source": [
        "(vi) WAP to update the value of 3 to 7.1."
      ],
      "metadata": {
        "id": "mPvpJrf4QeEQ"
      }
    },
    {
      "cell_type": "code",
      "source": [
        "D= {1:5.6, 2:7.8, 3:6.6, 4:8.7, 5:7.7}\n",
        "D[3]=7.1\n",
        "print(D)"
      ],
      "metadata": {
        "colab": {
          "base_uri": "https://localhost:8080/"
        },
        "id": "SXiX7T9zQfzZ",
        "outputId": "d5f781f8-6e53-49f7-e5a3-64e4868831f0"
      },
      "execution_count": null,
      "outputs": [
        {
          "output_type": "stream",
          "name": "stdout",
          "text": [
            "{1: 5.6, 2: 7.8, 3: 7.1, 4: 8.7, 5: 7.7}\n"
          ]
        }
      ]
    },
    {
      "cell_type": "markdown",
      "source": [
        "(vii) WAP to clear the dictionary.\n"
      ],
      "metadata": {
        "id": "KDzB23ehQgA4"
      }
    },
    {
      "cell_type": "code",
      "source": [
        "D= {1:5.6, 2:7.8, 3:6.6, 4:8.7, 5:7.7}\n",
        "dict.clear(D)\n",
        "print(D)\n"
      ],
      "metadata": {
        "colab": {
          "base_uri": "https://localhost:8080/"
        },
        "id": "89yR6mjhTfN5",
        "outputId": "25987705-1783-478b-eb87-689a36e2a014"
      },
      "execution_count": null,
      "outputs": [
        {
          "output_type": "stream",
          "name": "stdout",
          "text": [
            "{}\n"
          ]
        }
      ]
    },
    {
      "cell_type": "markdown",
      "source": [
        "Q3. S1 is a set defined as S1= [10, 20, 30, 40, 50, 60].\n",
        " S2 is a set defined as S2= [40, 50, 60, 70, 80, 90]."
      ],
      "metadata": {
        "id": "jrZnzctYVL2U"
      }
    },
    {
      "cell_type": "markdown",
      "source": [
        "(i) WAP to add 55 and 66 in Set S1"
      ],
      "metadata": {
        "id": "ChdpSlb6VSWB"
      }
    },
    {
      "cell_type": "code",
      "source": [
        "S1= set([10, 20, 30, 40, 50, 60])\n",
        "S2= set([40, 50, 60, 70, 80, 90])\n",
        "S1.add(55)\n",
        "S1.add(66)\n",
        "print(S1)\n",
        "\n"
      ],
      "metadata": {
        "colab": {
          "base_uri": "https://localhost:8080/"
        },
        "id": "1K6Z2Jw3VVWR",
        "outputId": "7e660039-db35-462b-ac56-f7a2eda44feb"
      },
      "execution_count": null,
      "outputs": [
        {
          "output_type": "stream",
          "name": "stdout",
          "text": [
            "{66, 40, 10, 50, 20, 55, 60, 30}\n"
          ]
        }
      ]
    },
    {
      "cell_type": "markdown",
      "source": [
        "(ii) WAP to remove 10 and 30 from Set S1"
      ],
      "metadata": {
        "id": "JopTnO88VVnZ"
      }
    },
    {
      "cell_type": "code",
      "source": [
        "S1= set([10, 20, 30, 40, 50, 60])\n",
        "S2= set([40, 50, 60, 70, 80, 90])\n",
        "S1.remove(30)\n",
        "S1.remove(10)\n",
        "print(S1)\n"
      ],
      "metadata": {
        "colab": {
          "base_uri": "https://localhost:8080/"
        },
        "id": "hcDN6WyUVaZB",
        "outputId": "e465414a-f6a7-441a-ddc2-dde91dda112b"
      },
      "execution_count": null,
      "outputs": [
        {
          "output_type": "stream",
          "name": "stdout",
          "text": [
            "{40, 50, 20, 60}\n"
          ]
        }
      ]
    },
    {
      "cell_type": "markdown",
      "source": [
        "(iii) WAP to check whether 40 is present in S1"
      ],
      "metadata": {
        "id": "pYpXFLAJVary"
      }
    },
    {
      "cell_type": "code",
      "source": [
        "S1= set([10, 20, 30, 40, 50, 60])\n",
        "S2= set([40, 50, 60, 70, 80, 90])\n",
        "\n",
        "print(40 in S1)"
      ],
      "metadata": {
        "colab": {
          "base_uri": "https://localhost:8080/"
        },
        "id": "YoIRh0AGVc_x",
        "outputId": "53b9339d-fa20-4496-a123-7d6464d15961"
      },
      "execution_count": null,
      "outputs": [
        {
          "output_type": "stream",
          "name": "stdout",
          "text": [
            "True\n"
          ]
        }
      ]
    },
    {
      "cell_type": "markdown",
      "source": [
        "(iv) WAP to find the union between S1 and S2"
      ],
      "metadata": {
        "id": "votlNu7eVdSJ"
      }
    },
    {
      "cell_type": "code",
      "source": [
        "S1= set([10, 20, 30, 40, 50, 60])\n",
        "S2= set([40, 50, 60, 70, 80, 90])\n",
        "\n",
        "S3=S1.union(S2)\n",
        "print(S3)"
      ],
      "metadata": {
        "colab": {
          "base_uri": "https://localhost:8080/"
        },
        "id": "Djm-icqtVfWp",
        "outputId": "7639e940-3ba4-4b48-eb29-1e2756efc896"
      },
      "execution_count": null,
      "outputs": [
        {
          "output_type": "stream",
          "name": "stdout",
          "text": [
            "{70, 40, 10, 80, 50, 20, 90, 60, 30}\n"
          ]
        }
      ]
    },
    {
      "cell_type": "markdown",
      "source": [
        "(v) WAP to find the intersection between S1 and S2"
      ],
      "metadata": {
        "id": "lo-cKLMSVfp5"
      }
    },
    {
      "cell_type": "code",
      "source": [
        "S1= set([10, 20, 30, 40, 50, 60])\n",
        "S2= set([40, 50, 60, 70, 80, 90])\n",
        "S3=S1.intersection(S2)\n",
        "print(S3)"
      ],
      "metadata": {
        "colab": {
          "base_uri": "https://localhost:8080/"
        },
        "id": "4crNZkLPVh3S",
        "outputId": "068585d5-b674-499d-c307-50ec2861d25a"
      },
      "execution_count": null,
      "outputs": [
        {
          "output_type": "stream",
          "name": "stdout",
          "text": [
            "{40, 50, 60}\n"
          ]
        }
      ]
    },
    {
      "cell_type": "markdown",
      "source": [
        "(vi) WAP to find the S1 - S2"
      ],
      "metadata": {
        "id": "VOnQGMWZViMK"
      }
    },
    {
      "cell_type": "code",
      "source": [
        "S1= set([10, 20, 30, 40, 50, 60])\n",
        "S2= set([40, 50, 60, 70, 80, 90])\n",
        "S3=S1.difference(S2)\n",
        "print(S3)"
      ],
      "metadata": {
        "colab": {
          "base_uri": "https://localhost:8080/"
        },
        "id": "8WYJEFtHVkWq",
        "outputId": "9b5b42de-0aaf-4b65-87f8-834b8ce776e5"
      },
      "execution_count": null,
      "outputs": [
        {
          "output_type": "stream",
          "name": "stdout",
          "text": [
            "{10, 20, 30}\n"
          ]
        }
      ]
    },
    {
      "cell_type": "markdown",
      "source": [
        "Q4. Write the following program."
      ],
      "metadata": {
        "id": "llFePw_wXuW0"
      }
    },
    {
      "cell_type": "markdown",
      "source": [
        "(i) WAP to print 100 random strings whose length between 6 and 8"
      ],
      "metadata": {
        "id": "8cOlFhmZXw7R"
      }
    },
    {
      "cell_type": "code",
      "source": [
        "import random as r\n",
        "import string as s\n",
        "for n in range(1,101,1):\n",
        "  length=r.randint(6,8)\n",
        "  (s.ascii_letters)\n",
        "  pss=r.sample(s.ascii_letters,length)\n",
        "  new_pss=\"\".join(pss)\n",
        "  print(new_pss)\n",
        "\n"
      ],
      "metadata": {
        "colab": {
          "base_uri": "https://localhost:8080/"
        },
        "id": "dpvwveISX1S5",
        "outputId": "b83ef239-84d9-4b8d-ae58-b90dff585967"
      },
      "execution_count": null,
      "outputs": [
        {
          "output_type": "stream",
          "name": "stdout",
          "text": [
            "PiHLaDo\n",
            "QBxlhZ\n",
            "YkxKgZ\n",
            "vbZGxneS\n",
            "QnvKUh\n",
            "JaoipLy\n",
            "kIMKwom\n",
            "SplHPsvo\n",
            "ytMHTu\n",
            "utolPAsX\n",
            "KlJnFI\n",
            "JSlxaCz\n",
            "EPxNVpTo\n",
            "uFeIgdqX\n",
            "uQObBEH\n",
            "YRSxdkTw\n",
            "okEUznic\n",
            "wRuzmE\n",
            "iqIEfrBj\n",
            "KILsSAd\n",
            "URlFQqBO\n",
            "SvckWQ\n",
            "oHYtkZO\n",
            "AkzaGUn\n",
            "nSBqTbi\n",
            "MusvpAw\n",
            "DTlGwV\n",
            "HylvaBqr\n",
            "qWbzUsGl\n",
            "ygnvNrUb\n",
            "iMGWYX\n",
            "gKQAivZ\n",
            "kACrLDE\n",
            "qEmMjp\n",
            "nHvmLEj\n",
            "qStzaB\n",
            "wopFvsGh\n",
            "RlMaIht\n",
            "LQZyNnuq\n",
            "GRKfrIk\n",
            "WhdiKZAq\n",
            "gNqMDFbP\n",
            "nPAGfmyb\n",
            "XZnrhEK\n",
            "cIaZLfFh\n",
            "cVLZelxM\n",
            "SfYugV\n",
            "DJqaioS\n",
            "PNKSWJo\n",
            "ETsAgC\n",
            "DbfmMNog\n",
            "GinyzWc\n",
            "pXBwJP\n",
            "FaQHwL\n",
            "xojwim\n",
            "xMYLgDhe\n",
            "jNMFqH\n",
            "DFtYeW\n",
            "zLKigrM\n",
            "KSzxjQZ\n",
            "RLBZeA\n",
            "jztAODM\n",
            "wvrXaR\n",
            "zuYdOc\n",
            "FieYMDa\n",
            "kmJueVR\n",
            "LJVdkgr\n",
            "liUcDrA\n",
            "NMdFDItA\n",
            "VavKbQk\n",
            "BmZjXkWg\n",
            "TXhYNGy\n",
            "swpNqRr\n",
            "UvZsMQ\n",
            "cEJpNoZ\n",
            "UHMAcwJ\n",
            "UZeFbOz\n",
            "yCqEHwj\n",
            "euciyAZ\n",
            "gGDmnOJB\n",
            "kpevHKT\n",
            "vwusmK\n",
            "XEeGNAf\n",
            "vrZkLcQW\n",
            "fvgRAHp\n",
            "AZpmEtvR\n",
            "ufydAz\n",
            "JqASEfi\n",
            "MtNqUpR\n",
            "WghBTPX\n",
            "ZbIsdyT\n",
            "woPptgC\n",
            "QxdpuXIG\n",
            "NsBfLJ\n",
            "WgVoAXd\n",
            "bKjryl\n",
            "KJHgrdB\n",
            "qJvnTLx\n",
            "UMuPql\n",
            "MNyLTws\n"
          ]
        }
      ]
    },
    {
      "cell_type": "markdown",
      "source": [
        "(ii) WAP to print all prime numbers between 600 and 800"
      ],
      "metadata": {
        "id": "6Mam8Gn2X1o8"
      }
    },
    {
      "cell_type": "code",
      "source": [],
      "metadata": {
        "colab": {
          "base_uri": "https://localhost:8080/"
        },
        "id": "Ty_RyquXX3uz",
        "outputId": "e4c8a21b-84fc-468d-b934-cd41fe83d18f"
      },
      "execution_count": null,
      "outputs": [
        {
          "output_type": "stream",
          "name": "stdout",
          "text": [
            "[126, 189, 252, 315, 378, 441, 504, 567, 630, 693, 756, 819, 882, 945]\n"
          ]
        }
      ]
    },
    {
      "cell_type": "markdown",
      "source": [
        "(iii) WAP to print all numbers between 100 and 1000 that are divisible by 7 and 9"
      ],
      "metadata": {
        "id": "PaFUdIg9X4Ea"
      }
    },
    {
      "cell_type": "code",
      "source": [
        "for n in range(100,1000):\n",
        "  if(n%7==0 and n%9==0):\n",
        "    print(n)"
      ],
      "metadata": {
        "colab": {
          "base_uri": "https://localhost:8080/"
        },
        "id": "YQDysgsXX6UZ",
        "outputId": "ef62d45d-fdd1-4a58-c82c-df23cd094c1c"
      },
      "execution_count": null,
      "outputs": [
        {
          "output_type": "stream",
          "name": "stdout",
          "text": [
            "126\n",
            "189\n",
            "252\n",
            "315\n",
            "378\n",
            "441\n",
            "504\n",
            "567\n",
            "630\n",
            "693\n",
            "756\n",
            "819\n",
            "882\n",
            "945\n"
          ]
        }
      ]
    },
    {
      "cell_type": "markdown",
      "source": [
        "Q5. WAP to create two lists of 10 random numbers between 10 and 30; Find"
      ],
      "metadata": {
        "id": "oWmb4snIgh9B"
      }
    },
    {
      "cell_type": "markdown",
      "source": [
        "(i) Common numbers in the two lists"
      ],
      "metadata": {
        "id": "veDbwGgBgxty"
      }
    },
    {
      "cell_type": "code",
      "source": [
        "import random as r\n",
        "A=r.sample(range(10,30), 10)\n",
        "B=r.sample(range(10,30), 10)\n",
        "\n",
        "\n",
        "for n in A:\n",
        "  for m in B:\n",
        "    if(n==m):\n",
        "      print(n)\n",
        "\n",
        "\n",
        "\n"
      ],
      "metadata": {
        "colab": {
          "base_uri": "https://localhost:8080/"
        },
        "id": "5Yd4HCcsgkAC",
        "outputId": "843b4afd-3fa3-4780-afd1-aa32bf62af39"
      },
      "execution_count": null,
      "outputs": [
        {
          "output_type": "stream",
          "name": "stdout",
          "text": [
            "22\n",
            "15\n",
            "20\n",
            "23\n",
            "21\n"
          ]
        }
      ]
    },
    {
      "cell_type": "markdown",
      "source": [
        "(ii) Unique numbers in both the list"
      ],
      "metadata": {
        "id": "fF3ljzV-gkTq"
      }
    },
    {
      "cell_type": "code",
      "source": [
        "import random as r\n",
        "A=r.sample(range(10,30), 10)\n",
        "B=r.sample(range(10,30), 10)\n",
        "\n",
        "\n",
        "\n",
        "for n in A:\n",
        "  for m in B:\n",
        "    if(n!=m):\n",
        "      print(n)\n",
        "      break\n",
        "\n",
        "      "
      ],
      "metadata": {
        "colab": {
          "base_uri": "https://localhost:8080/"
        },
        "id": "0SBfGsFRgmUa",
        "outputId": "63aac6f7-21a6-4b33-8305-08255b236699"
      },
      "execution_count": null,
      "outputs": [
        {
          "output_type": "stream",
          "name": "stdout",
          "text": [
            "11\n",
            "14\n",
            "10\n",
            "22\n",
            "23\n",
            "29\n",
            "16\n",
            "24\n",
            "15\n",
            "13\n"
          ]
        }
      ]
    },
    {
      "cell_type": "markdown",
      "source": [
        "(iii) Minimum in both the list"
      ],
      "metadata": {
        "id": "OJxQ_IW4gmsz"
      }
    },
    {
      "cell_type": "code",
      "source": [
        "import random as r\n",
        "A=r.sample(range(10,30), 10)\n",
        "B=r.sample(range(10,30), 10)\n",
        "print(min(A))\n",
        "print(min(B))"
      ],
      "metadata": {
        "colab": {
          "base_uri": "https://localhost:8080/"
        },
        "id": "q5Jibe0Ygooa",
        "outputId": "704ea369-e1f5-4210-9101-8c0a891c1d4d"
      },
      "execution_count": null,
      "outputs": [
        {
          "output_type": "stream",
          "name": "stdout",
          "text": [
            "12\n",
            "11\n"
          ]
        }
      ]
    },
    {
      "cell_type": "markdown",
      "source": [
        "(iv) Maximum in both the list"
      ],
      "metadata": {
        "id": "gal113DBgo7q"
      }
    },
    {
      "cell_type": "code",
      "source": [
        "import random as r\n",
        "A=r.sample(range(10,30), 10)\n",
        "B=r.sample(range(10,30), 10)\n",
        "print(max(A))\n",
        "print(max(B))"
      ],
      "metadata": {
        "colab": {
          "base_uri": "https://localhost:8080/"
        },
        "id": "bBIH3NfK_9YE",
        "outputId": "646b360d-c91f-430c-d1eb-a0952f93a7b9"
      },
      "execution_count": null,
      "outputs": [
        {
          "output_type": "stream",
          "name": "stdout",
          "text": [
            "29\n",
            "29\n"
          ]
        }
      ]
    },
    {
      "cell_type": "markdown",
      "source": [
        "(v) Sum of both the lists"
      ],
      "metadata": {
        "id": "5g9lIP0lgqgK"
      }
    },
    {
      "cell_type": "code",
      "source": [
        "import random as r\n",
        "A=r.sample(range(10,30), 10)\n",
        "B=r.sample(range(10,30), 10)\n",
        "C=A+B\n",
        "print(C)"
      ],
      "metadata": {
        "colab": {
          "base_uri": "https://localhost:8080/"
        },
        "id": "CN6lkfL8gr8j",
        "outputId": "6e41c445-32fa-45df-f5ed-4e61b80f634b"
      },
      "execution_count": null,
      "outputs": [
        {
          "output_type": "stream",
          "name": "stdout",
          "text": [
            "[25, 16, 11, 20, 14, 23, 13, 17, 19, 18, 27, 29, 15, 17, 10, 20, 12, 18, 14, 23]\n"
          ]
        }
      ]
    },
    {
      "cell_type": "markdown",
      "source": [
        "Q6. WAP to create a list of 100 random numbers between 100 and 900. Count and print the:"
      ],
      "metadata": {
        "id": "H52dEGl1kK9V"
      }
    },
    {
      "cell_type": "markdown",
      "source": [
        "(i) All odd numbers"
      ],
      "metadata": {
        "id": "moKLB5l8kR6c"
      }
    },
    {
      "cell_type": "code",
      "source": [
        "import random as r\n",
        "A= r.sample(range(100,900),100)\n",
        "#print(A)\n",
        "sum=0\n",
        "for n in A:\n",
        "  if n%2!=0:\n",
        "    sum=sum+n\n",
        "print(sum)    \n",
        "\n",
        "\n"
      ],
      "metadata": {
        "colab": {
          "base_uri": "https://localhost:8080/"
        },
        "id": "VlynYrjdkU8O",
        "outputId": "cc218833-6754-4030-de60-437504803a0a"
      },
      "execution_count": null,
      "outputs": [
        {
          "output_type": "stream",
          "name": "stdout",
          "text": [
            "26395\n"
          ]
        }
      ]
    },
    {
      "cell_type": "markdown",
      "source": [
        "(ii) All even numbers"
      ],
      "metadata": {
        "id": "dazvldUtkVSl"
      }
    },
    {
      "cell_type": "code",
      "source": [
        "import random as r\n",
        "A= r.sample(range(100,900),100)\n",
        "#print(A)\n",
        "sum=0\n",
        "for n in A:\n",
        "  if n%2==0:\n",
        "    sum=sum+n\n",
        "print(sum)    \n",
        "\n",
        "\n"
      ],
      "metadata": {
        "id": "sqbo-VkykXm0"
      },
      "execution_count": null,
      "outputs": []
    },
    {
      "cell_type": "markdown",
      "source": [
        "Q7. D is a dictionary defined as D={1:\"One\",2:\"Two\",3:\"Three\",4:\"Four\", 5:\"Five\"}. \n",
        " WAP to read all the keys and values from dictionary and write to the file in the given below format.\n",
        "Key1, Value1\n",
        "Key2, Value2\n",
        "Key3, Value3\n",
        "\n",
        "```\n",
        "\n",
        "\n"
      ],
      "metadata": {
        "id": "SKzZwX25Hn21"
      }
    },
    {
      "cell_type": "code",
      "source": [
        "D={1:\"One\",2:\"Two\",3:\"Three\",4:\"Four\", 5:\"Five\"}\n",
        "fp=open(\"file.txt\",\"w\")\n",
        "for n in D:\n",
        "  fp.write(str(n)+\",\"+str(D[n])+\"\\n\")\n",
        "fp.close()  "
      ],
      "metadata": {
        "id": "LNNnnqrZHvkq"
      },
      "execution_count": 31,
      "outputs": []
    }
  ]
}